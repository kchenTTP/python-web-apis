{
  "nbformat": 4,
  "nbformat_minor": 0,
  "metadata": {
    "colab": {
      "provenance": [],
      "collapsed_sections": [
        "Mxo9F4okuIV2",
        "8W9VeieVvjIA",
        "tcA04-buwEsc",
        "MZ7Hmq8vbEdj"
      ],
      "authorship_tag": "ABX9TyOQFFCDhA0687yhv9t3X/Uc",
      "include_colab_link": true
    },
    "kernelspec": {
      "name": "python3",
      "display_name": "Python 3"
    },
    "language_info": {
      "name": "python"
    }
  },
  "cells": [
    {
      "cell_type": "markdown",
      "metadata": {
        "id": "view-in-github",
        "colab_type": "text"
      },
      "source": [
        "<a href=\"https://colab.research.google.com/github/kchenTTP/python-web-apis/blob/main/web_api_examples_v1.ipynb\" target=\"_parent\"><img src=\"https://colab.research.google.com/assets/colab-badge.svg\" alt=\"Open In Colab\"/></a>"
      ]
    },
    {
      "cell_type": "markdown",
      "source": [
        "# **Consuming Web APIs with Python**\n",
        "\n",
        "An API, or Application Programming Interface, is a set of rules and protocols that allows different software applications to communicate and interact with each other."
      ],
      "metadata": {
        "id": "DqZvdNcNjfJT"
      }
    },
    {
      "cell_type": "markdown",
      "source": [
        "# Keyword Definition & Overview\n",
        "\n",
        "**API Endpoint**: A specific URL that an API exposes to allow users to access its functionalities\n",
        "\n",
        "**Requests**: How users send HTTP requests to APIs to retrieve or manipulate data\n",
        "  - [List of Request Methods](https://developer.mozilla.org/en-US/docs/Web/HTTP/Methods)\n",
        "\n",
        "**Responses**: When an API receives a request, it processes it and sends back a response\n",
        "\n",
        "**Status Codes**: Three-digit code that is included in the response that provides information about the status of the request\n",
        "  - [List of Status Codes](https://developer.mozilla.org/en-US/docs/Web/HTTP/Status)\n",
        "\n",
        "**Parameters**: Parameters or query parameters, which are used to provide additional information or modify the behavior of API requests\n",
        "\n",
        "**Authentication and Authorization**: Mechanisms to verify the identity of users and authorization to control access to certain resources or operations\n",
        "  - Authentication: Who are you?\n",
        "    - Ex: API keys, tokens, or OAuth\n",
        "  - Authorization: What are you allowed to do?\n",
        "\n",
        "**Rate Limiting**: APIs may enforce rate limits to restrict the number of requests a user can make within a specific timeframe"
      ],
      "metadata": {
        "id": "uvUB-Ex_-58M"
      }
    },
    {
      "cell_type": "markdown",
      "source": [
        "## Import Python Libraries"
      ],
      "metadata": {
        "id": "eQ7RkKVmrufA"
      }
    },
    {
      "cell_type": "code",
      "source": [
        "import json\n",
        "import requests\n",
        "from IPython.display import display, Image"
      ],
      "metadata": {
        "id": "a9JBXRnily4r"
      },
      "execution_count": null,
      "outputs": []
    },
    {
      "cell_type": "markdown",
      "source": [
        "# [Open Weather API](https://openweathermap.org/api)\n",
        "\n",
        "We'll be using the [Current Weather Data API](https://openweathermap.org/current) to get the current weather of a location using it's zip code.\n",
        "\n",
        "**Steps**:\n",
        "1. Sign in to website and obtain [API key](https://home.openweathermap.org/api_keys)\n",
        "2. Find API endpoints and parameters on the documentation\n",
        "3. Find zip code of location\n",
        "4. Send request with correct parameters to API endpoint\n",
        "5. Receive and retrieve data from response\n",
        "6. Parse useful data and display"
      ],
      "metadata": {
        "id": "j14h2f0yr21z"
      }
    },
    {
      "cell_type": "markdown",
      "source": [
        "### Store our api key as a variable"
      ],
      "metadata": {
        "id": "ebi2r71NBH5r"
      }
    },
    {
      "cell_type": "code",
      "source": [
        "weather_key = '8a670d917cbfd24d1188b1b1b8a335d9'"
      ],
      "metadata": {
        "id": "Z4QahFNeAwdt"
      },
      "execution_count": null,
      "outputs": []
    },
    {
      "cell_type": "markdown",
      "source": [
        "### Write a function that sends HTTP Get request to API endpoint\n",
        "- **Endpoint**: `https://api.openweathermap.org/data/2.5/weather`\n",
        "- **Parameters**: `?param_name_1=value`\n",
        "  - Use `&` symbol to pass in multiple parameters\n",
        "  - Remember to pass in your `api key`"
      ],
      "metadata": {
        "id": "3LEYaC4e8Nvy"
      }
    },
    {
      "cell_type": "code",
      "execution_count": null,
      "metadata": {
        "id": "dlCHnlvAfwTw"
      },
      "outputs": [],
      "source": [
        "# parameter values\n",
        "zip_code = '14201' # Buffalo, NY\n",
        "city_name = 'Buffalo'\n",
        "country_code = 'USA'\n",
        "units = 'metric'"
      ]
    },
    {
      "cell_type": "code",
      "source": [
        "#@title Function Implementation\n",
        "\n",
        "def get_weather_json_with_zip(api_key, zip_code, units):\n",
        "  \"\"\"\n",
        "  call open weather api and return a json\n",
        "  \"\"\"\n",
        "  res = requests.get(f'https://api.openweathermap.org/data/2.5/weather?zip={zip_code}&appid={api_key}&units={units}')\n",
        "  return json.loads(res.content)"
      ],
      "metadata": {
        "id": "zrhDcK5hp1bX"
      },
      "execution_count": null,
      "outputs": []
    },
    {
      "cell_type": "code",
      "source": [
        "# print the response json file\n",
        "weather_json = get_weather_json_with_zip(weather_key, zip_code, units)\n",
        "weather_json"
      ],
      "metadata": {
        "colab": {
          "base_uri": "https://localhost:8080/"
        },
        "id": "r8v-ej-qls0n",
        "outputId": "cd6b8599-8dba-4bf6-c795-959e2e9183a1"
      },
      "execution_count": null,
      "outputs": [
        {
          "output_type": "execute_result",
          "data": {
            "text/plain": [
              "{'cod': 401,\n",
              " 'message': 'Invalid API key. Please see https://openweathermap.org/faq#error401 for more info.'}"
            ]
          },
          "metadata": {},
          "execution_count": 11
        }
      ]
    },
    {
      "cell_type": "markdown",
      "source": [
        "### Write a function that parses useful information and display"
      ],
      "metadata": {
        "id": "uxxKDavP9jLm"
      }
    },
    {
      "cell_type": "code",
      "source": [
        "#@title Function Implementation\n",
        "\n",
        "def display_weather_data(response: dict):\n",
        "  \"\"\"\n",
        "    Display weather data from a response json file (dictionary).\n",
        "\n",
        "    ---\n",
        "    Args:\n",
        "        response (dict): A dictionary containing weather data.\n",
        "\n",
        "    Raises:\n",
        "        ValueError: If the input `response` is not a dictionary.\n",
        "\n",
        "    Prints:\n",
        "        The title, description, current temperature, humidity, maximum temperature,\n",
        "        and minimum temperature from the `response` dictionary.\n",
        "\n",
        "    Example:\n",
        "        response = {\n",
        "            'name': 'London',\n",
        "            'sys': {'country': 'GB'},\n",
        "            'weather': [{'main': 'Cloudy'}],\n",
        "            'main': {\n",
        "                'temp': 20.5,\n",
        "                'humidity': 75,\n",
        "                'temp_max': 22.8,\n",
        "                'temp_min': 18.2\n",
        "            }\n",
        "        }\n",
        "        display_weather_data(response)\n",
        "    \"\"\"\n",
        "\n",
        "  # check if argument is dict\n",
        "  if not isinstance(response, dict):\n",
        "    raise ValueError('Invalid response datatype: {}'.format(type(response)))\n",
        "\n",
        "  weather = {\n",
        "      'title': f\"{response['name']}, {response['sys']['country']}: Current Weather\",\n",
        "      'description': response['weather'][0]['main'],\n",
        "      'temp': str(response['main']['temp']),\n",
        "      'humidity': str(response['main']['humidity']),\n",
        "      'temp_max': str(response['main']['temp_max']),\n",
        "      'temp_min': str(response['main']['temp_min'])\n",
        "  }\n",
        "\n",
        "  n = 0\n",
        "  for s in weather.values():\n",
        "    s_len = len(s)\n",
        "    if s_len > n:\n",
        "      n = s_len\n",
        "  n += 2\n",
        "\n",
        "  print('=' * n)\n",
        "  print(weather['title'])\n",
        "  print('=' * n)\n",
        "  print(weather['description'])\n",
        "  print('-' * n)\n",
        "  print('Current temperature:', weather['temp'], '\\u00B0C')\n",
        "  print('Humidity:', weather['humidity'], '%')\n",
        "  print('Max temperature:', weather['temp_max'], '\\u00B0C')\n",
        "  print('Min temperature:', weather['temp_min'], '\\u00B0C')\n",
        "  print('-' * n)\n"
      ],
      "metadata": {
        "id": "eUffCFGHuxkh"
      },
      "execution_count": null,
      "outputs": []
    },
    {
      "cell_type": "code",
      "source": [
        "# display the information\n",
        "display_weather_data(weather_json)"
      ],
      "metadata": {
        "colab": {
          "base_uri": "https://localhost:8080/"
        },
        "id": "PexqQE8Yx-hD",
        "outputId": "76f5e82b-f602-415e-fe7e-c534a2af0069"
      },
      "execution_count": null,
      "outputs": [
        {
          "output_type": "stream",
          "name": "stdout",
          "text": [
            "==============================\n",
            "Buffalo, US: Current Weather\n",
            "==============================\n",
            "Clouds\n",
            "------------------------------\n",
            "Current temperature: 13.82 °C\n",
            "Humidity: 84 %\n",
            "Max temperature: 15.17 °C\n",
            "Min temperature: 12.71 °C\n",
            "------------------------------\n"
          ]
        }
      ]
    },
    {
      "cell_type": "markdown",
      "source": [
        "# [Spoonacular API](https://spoonacular.com/food-api/docs)\n",
        "\n",
        "Let's use the Spoonacular api to find recipes and ingredients.\n",
        "\n",
        "**Steps**:\n",
        "1. Sign in to website and obtain [API key](https://spoonacular.com/food-api/console#Profile)\n",
        "2. Find API endpoints and parameters on the documentation\n",
        "3. Send request with correct parameters to API endpoint\n",
        "4. Receive and retrieve data from response\n",
        "5. Parse useful data and display\n"
      ],
      "metadata": {
        "id": "mkrdUoLysJ-d"
      }
    },
    {
      "cell_type": "markdown",
      "source": [
        "### Store our api key as a variable"
      ],
      "metadata": {
        "id": "xHHoirpKBivR"
      }
    },
    {
      "cell_type": "code",
      "source": [
        "spoon_key = 'f845e3980c8b4519bc9da1fbb0d3f116'"
      ],
      "metadata": {
        "id": "IRncWbxipGKc"
      },
      "execution_count": null,
      "outputs": []
    },
    {
      "cell_type": "markdown",
      "source": [
        "## [Ingredient Search API Endpoint](https://spoonacular.com/food-api/docs#Ingredient-Search)\n",
        "\n",
        "- **Endpoint**: `https://api.spoonacular.com/food/ingredients/search`\n",
        "- **Parameters**: Read documentation to find out!\n",
        "  - Remember to pass in your `api key`\n"
      ],
      "metadata": {
        "id": "PEnrCD9g_Huc"
      }
    },
    {
      "cell_type": "markdown",
      "source": [
        "### Write a function that calls Spoonacular API to retrieve ingredients"
      ],
      "metadata": {
        "id": "8HvzPxl-J7OC"
      }
    },
    {
      "cell_type": "code",
      "source": [
        "ingredients_endpoint = 'https://api.spoonacular.com/food/ingredients/search'"
      ],
      "metadata": {
        "id": "lQZtfhhbtxs0"
      },
      "execution_count": null,
      "outputs": []
    },
    {
      "cell_type": "code",
      "source": [
        "ingredient = 'apple'"
      ],
      "metadata": {
        "id": "TD3fAINRBkXX"
      },
      "execution_count": null,
      "outputs": []
    },
    {
      "cell_type": "code",
      "source": [
        "#@title Function Implementation\n",
        "\n",
        "def get_api_json(api_key: str, api_endpoint: str, params: dict) -> dict:\n",
        "  '''\n",
        "  Get dictionary of the main content from api call. Provide your api_key and a dictionary containing all the parameter names as key and parameter values as value.\n",
        "\n",
        "  ---\n",
        "  Args:\n",
        "      api_key: Your API Key.\n",
        "      api_endpoint: The api endpoint you are trying to call.\n",
        "      params: Dictionary that follows the following format {'param_name': 'param_value'}.\n",
        "  Returns:\n",
        "      dict: A dictionary containing the main body of the HTTP response.\n",
        "  '''\n",
        "  param_pairs = list(params.items())\n",
        "  base_str = api_endpoint + '?'\n",
        "\n",
        "  for key, value in param_pairs:\n",
        "    base_str = base_str + key + '=' + value + '&'\n",
        "\n",
        "  base_str = base_str + 'apiKey=' + api_key\n",
        "  res = requests.get(base_str)\n",
        "  return json.loads(res.content)"
      ],
      "metadata": {
        "id": "bjvof2rYtwyG"
      },
      "execution_count": null,
      "outputs": []
    },
    {
      "cell_type": "code",
      "source": [
        "api_params = {\n",
        "    'query': ingredient,\n",
        "    'number': '10'\n",
        "}\n",
        "\n",
        "ingredients_dict = get_api_json(spoon_key, ingredients_endpoint, api_params)\n",
        "ingredients_dict = ingredients_dict['results']\n",
        "ingredients_dict"
      ],
      "metadata": {
        "colab": {
          "base_uri": "https://localhost:8080/"
        },
        "id": "GZsqjSWhuSyP",
        "outputId": "407204bc-3932-4a23-9e84-d5ccb592a87a"
      },
      "execution_count": null,
      "outputs": [
        {
          "output_type": "execute_result",
          "data": {
            "text/plain": [
              "[{'id': 9003, 'name': 'apple', 'image': 'apple.jpg'},\n",
              " {'id': 9019, 'name': 'applesauce', 'image': 'applesauce.png'},\n",
              " {'id': 9016, 'name': 'apple juice', 'image': 'apple-juice.jpg'},\n",
              " {'id': 1009016, 'name': 'apple cider', 'image': 'apple-cider.jpg'},\n",
              " {'id': 10019297, 'name': 'apple jelly', 'image': 'apple-jelly.jpg'},\n",
              " {'id': 19294, 'name': 'apple butter', 'image': 'apple-jelly.jpg'},\n",
              " {'id': 1042035, 'name': 'apple pie spice', 'image': 'garam-masala.jpg'},\n",
              " {'id': 19312, 'name': 'apple pie filling', 'image': 'apple-pie-slice.jpg'},\n",
              " {'id': 2048,\n",
              "  'name': 'apple cider vinegar',\n",
              "  'image': 'apple-cider-vinegar.jpg'},\n",
              " {'id': 10123, 'name': 'applewood smoked bacon', 'image': 'raw-bacon.png'}]"
            ]
          },
          "metadata": {},
          "execution_count": 12
        }
      ]
    },
    {
      "cell_type": "markdown",
      "source": [
        "#### Old Code"
      ],
      "metadata": {
        "id": "Mxo9F4okuIV2"
      }
    },
    {
      "cell_type": "code",
      "source": [
        "#@title Old Function Implementation\n",
        "\n",
        "def get_ingredients_with_name(api_key: str, ingredient_name: str, n_results: int=10, print_out: bool=False) -> list:\n",
        "  \"\"\"\n",
        "    Retrieve a list of ingredient IDs and names based on a search query.\n",
        "\n",
        "    ---\n",
        "    Args:\n",
        "        api_key (str): The API key for accessing the Spoonacular API.\n",
        "        ingredient_name (str): The name of the ingredient to search for.\n",
        "        n_results (int): The number of results to retrieve (between 1 and 100).\n",
        "        print_out (bool, optional): Whether to print the results. Defaults to False.\n",
        "\n",
        "    Returns:\n",
        "        list: A list of tuples containing the ingredient ID and name.\n",
        "\n",
        "    Raises:\n",
        "        None.\n",
        "\n",
        "    Example:\n",
        "        api_key = 'your_api_key'\n",
        "        ingredient_name = 'chicken'\n",
        "        n_results = 10\n",
        "        results = get_ingredients_with_name(api_key, ingredient_name, n_results, print_out=True)\n",
        "        print(results)\n",
        "  \"\"\"\n",
        "\n",
        "  if n_results < 1:\n",
        "    n_results = 1\n",
        "  if n_results > 100:\n",
        "    n_results = 100\n",
        "\n",
        "  res = requests.get(f'https://api.spoonacular.com/food/ingredients/search?query={ingredient}&number={n_results}&apiKey={api_key}')\n",
        "  content = json.loads(res.content)\n",
        "  results = content['results']\n",
        "  result_ingredients = [(i['id'], i['name']) for i in results]\n",
        "\n",
        "  if print_out:\n",
        "    print(f\"{content['totalResults']} results found, displaying {n_results}\")\n",
        "    print('---------------')\n",
        "    print()\n",
        "    for i, tup in enumerate(result_ingredients):\n",
        "      print(f'{i + 1}.')\n",
        "      print('id:', tup[0],'name:', tup[1])\n",
        "\n",
        "  return result_ingredients"
      ],
      "metadata": {
        "id": "MtvSIMuuDIbM"
      },
      "execution_count": null,
      "outputs": []
    },
    {
      "cell_type": "code",
      "source": [
        "# get list of ingredients\n",
        "ingredients = get_ingredients_with_name(spoon_key, ingredient, 10)\n",
        "ingredients"
      ],
      "metadata": {
        "colab": {
          "base_uri": "https://localhost:8080/"
        },
        "id": "o6u0KLIUwXLh",
        "outputId": "c4d7336a-cbc6-4771-ad75-e688d8771aa2"
      },
      "execution_count": null,
      "outputs": [
        {
          "output_type": "execute_result",
          "data": {
            "text/plain": [
              "[(9003, 'apple'),\n",
              " (9019, 'applesauce'),\n",
              " (9016, 'apple juice'),\n",
              " (1009016, 'apple cider'),\n",
              " (10019297, 'apple jelly'),\n",
              " (19294, 'apple butter'),\n",
              " (1042035, 'apple pie spice'),\n",
              " (19312, 'apple pie filling'),\n",
              " (2048, 'apple cider vinegar'),\n",
              " (10123, 'applewood smoked bacon')]"
            ]
          },
          "metadata": {},
          "execution_count": 14
        }
      ]
    },
    {
      "cell_type": "markdown",
      "source": [
        "## [Recipes Search API Endpoint](https://spoonacular.com/food-api/docs#Search-Recipes-Complex)\n",
        "\n",
        "- **Endpoint**: `https://api.spoonacular.com/recipes/complexSearch`\n",
        "- **Parameters**: Read documentation to find out!\n",
        "  - Remember to pass in your `api key`\n"
      ],
      "metadata": {
        "id": "58p9KC_1MA9S"
      }
    },
    {
      "cell_type": "code",
      "source": [
        "food = 'roasted chicken'"
      ],
      "metadata": {
        "id": "Oy3f9JqMQFKx"
      },
      "execution_count": null,
      "outputs": []
    },
    {
      "cell_type": "markdown",
      "source": [
        "### Write a function that calls Spoonacular API to retrieve recipe information"
      ],
      "metadata": {
        "id": "AuzL_onNMlRo"
      }
    },
    {
      "cell_type": "code",
      "source": [
        "complex_search_endpoint = 'https://api.spoonacular.com/recipes/complexSearch'\n",
        "api_params = {\n",
        "    'query': food,\n",
        "    'number': '20'\n",
        "}\n",
        "\n",
        "recipe_response = get_api_json(spoon_key, complex_search_endpoint, api_params)\n",
        "recipe_list = recipe_response['results']\n",
        "recipe_list"
      ],
      "metadata": {
        "id": "vNU0faNmvneg"
      },
      "execution_count": null,
      "outputs": []
    },
    {
      "cell_type": "code",
      "source": [
        "recipe_list[13]"
      ],
      "metadata": {
        "colab": {
          "base_uri": "https://localhost:8080/"
        },
        "id": "lr0WOCCev3jH",
        "outputId": "ce72d9a2-ccd9-4e91-e2c2-60b1380e81ed"
      },
      "execution_count": null,
      "outputs": [
        {
          "output_type": "execute_result",
          "data": {
            "text/plain": [
              "{'id': 641110,\n",
              " 'title': 'Curry and Sage Roast Chicken',\n",
              " 'image': 'https://spoonacular.com/recipeImages/641110-312x231.jpg',\n",
              " 'imageType': 'jpg'}"
            ]
          },
          "metadata": {},
          "execution_count": 17
        }
      ]
    },
    {
      "cell_type": "markdown",
      "source": [
        "#### Old Code"
      ],
      "metadata": {
        "id": "8W9VeieVvjIA"
      }
    },
    {
      "cell_type": "code",
      "source": [
        "#@title Old Function Implementation\n",
        "\n",
        "def get_recipe_names(api_key, query_item: str, n_results: int=10, print_out=False):\n",
        "  if n_results < 1:\n",
        "    n_results = 1\n",
        "  if n_results > 100:\n",
        "    n_results = 100\n",
        "\n",
        "  res = requests.get(f'https://api.spoonacular.com/recipes/complexSearch?query={query_item}&apiKey={api_key}')\n",
        "  content = json.loads(res.content)\n",
        "  results = content['results']\n",
        "  return results[:n_results]\n"
      ],
      "metadata": {
        "id": "XvZ2jtFEMsdX"
      },
      "execution_count": null,
      "outputs": []
    },
    {
      "cell_type": "code",
      "source": [
        "# get a list of recipes\n",
        "recipe_list = get_recipe_names(spoon_key, query_item=food, n_results=1)\n",
        "recipe_list"
      ],
      "metadata": {
        "colab": {
          "base_uri": "https://localhost:8080/"
        },
        "id": "Jk-pcgAnP1fi",
        "outputId": "6350856e-9302-429d-fad0-0c44ed1eaf84"
      },
      "execution_count": null,
      "outputs": [
        {
          "output_type": "execute_result",
          "data": {
            "text/plain": [
              "[{'id': 658546,\n",
              "  'title': 'Roasted Chicken and Brown Rice Soup',\n",
              "  'image': 'https://spoonacular.com/recipeImages/658546-312x231.jpg',\n",
              "  'imageType': 'jpg'}]"
            ]
          },
          "metadata": {},
          "execution_count": 33
        }
      ]
    },
    {
      "cell_type": "markdown",
      "source": [
        "## Use the recipe id information to find ingredients\n",
        "- **Endpoint**: `https://api.spoonacular.com/recipes/{recipe_id}/ingredientWidget.json`"
      ],
      "metadata": {
        "id": "7PhYm1pQURnW"
      }
    },
    {
      "cell_type": "code",
      "source": [
        "#@title Function Implementation\n",
        "def get_ingredients_with_id(api_key: str, recipe_dict: dict, print_out: bool=False) -> list:\n",
        "  '''\n",
        "  Get a list of ingredients with recipe_dictionary and printing them out.\n",
        "\n",
        "  ---\n",
        "  Args:\n",
        "      api_key: Your API Key.\n",
        "      params: Dictionary containing the recipe.\n",
        "\n",
        "  Returns:\n",
        "      list: A list of all the ingredients used in the recipe.\n",
        "\n",
        "  Raises:\n",
        "        ValueError: If the input `recipe_dict` is not a dictionary.\n",
        "\n",
        "  Example:\n",
        "      api_key = 'your_api_key'\n",
        "      recipe_dict = {'id': 641110,\n",
        "          'title': 'Curry and Sage Roast Chicken',\n",
        "          'image': 'https://spoonacular.com/recipeImages/641110-312x231.jpg',\n",
        "          'imageType': 'jpg'\n",
        "      }\n",
        "      list_of_ingredients = get_ingredients_with_id(api_key: api_key, recipe_dict: recipe_dict)\n",
        "\n",
        "  '''\n",
        "\n",
        "  if not isinstance(recipe_dict, dict):\n",
        "    raise ValueError(\"Invalid datatype for argument 1 recipe_dict: {}\".format(type(recipe_dict)))\n",
        "\n",
        "  res = requests.get(f\"https://api.spoonacular.com/recipes/{recipe_dict['id']}/ingredientWidget.json?apiKey={api_key}\")\n",
        "  content = json.loads(res.content)\n",
        "  ingredients_dict_list = content['ingredients']\n",
        "  ingredient_list = []\n",
        "\n",
        "  if print_out:\n",
        "    print(recipe_dict['title'])\n",
        "    print('===============================')\n",
        "    display(Image(url=recipe_dict['image']))\n",
        "    print('===============================')\n",
        "\n",
        "  for num, i in enumerate(ingredients_dict_list):\n",
        "    ingredient_list.append(i['name'])\n",
        "    if print_out: print(f\"{num + 1}. {i['name']}: {i['amount']['us']['value']} {i['amount']['us']['unit']}\")\n",
        "\n",
        "  if print_out: print('===============================')\n",
        "\n",
        "  return ingredient_list"
      ],
      "metadata": {
        "id": "bKZQD5zJwOep"
      },
      "execution_count": null,
      "outputs": []
    },
    {
      "cell_type": "code",
      "source": [
        "ingredients_of_recipe = get_ingredients_with_id(api_key=spoon_key, recipe_dict=recipe_list[5], print_out=True)"
      ],
      "metadata": {
        "colab": {
          "base_uri": "https://localhost:8080/",
          "height": 461
        },
        "id": "IHuR8d3aw0Uu",
        "outputId": "433ce1d3-7ed0-4144-bdb7-3da8b201c2a3"
      },
      "execution_count": null,
      "outputs": [
        {
          "output_type": "stream",
          "name": "stdout",
          "text": [
            "Roasted Butterflied Chicken w. Onions & Carrots\n",
            "===============================\n"
          ]
        },
        {
          "output_type": "display_data",
          "data": {
            "text/html": [
              "<img src=\"https://spoonacular.com/recipeImages/716427-312x231.jpg\"/>"
            ],
            "text/plain": [
              "<IPython.core.display.Image object>"
            ]
          },
          "metadata": {}
        },
        {
          "output_type": "stream",
          "name": "stdout",
          "text": [
            "===============================\n",
            "1. carrots: 2.0 cups\n",
            "2. chicken: 4.0 lb\n",
            "3. ghee: 1.0 Tbsp\n",
            "4. ghee: 3.0 Tbsps\n",
            "5. dried herbes de provence: 1.5 Tbsps\n",
            "6. pepper: 4.0 servings\n",
            "7. red onions: 2.0 large\n",
            "8. sea salt: 4.0 servings\n",
            "===============================\n"
          ]
        }
      ]
    },
    {
      "cell_type": "code",
      "source": [
        "ingredients_of_recipe"
      ],
      "metadata": {
        "colab": {
          "base_uri": "https://localhost:8080/"
        },
        "id": "zR-1-XVSxsGX",
        "outputId": "118ed90a-6491-4191-f8e9-e193de03ab58"
      },
      "execution_count": null,
      "outputs": [
        {
          "output_type": "execute_result",
          "data": {
            "text/plain": [
              "['carrots',\n",
              " 'chicken',\n",
              " 'ghee',\n",
              " 'ghee',\n",
              " 'dried herbes de provence',\n",
              " 'pepper',\n",
              " 'red onions',\n",
              " 'sea salt']"
            ]
          },
          "metadata": {},
          "execution_count": 38
        }
      ]
    },
    {
      "cell_type": "markdown",
      "source": [
        "#### Old Code"
      ],
      "metadata": {
        "id": "tcA04-buwEsc"
      }
    },
    {
      "cell_type": "code",
      "source": [
        "#@title Old Function Implementation 1\n",
        "\n",
        "def get_recipe_ingredients(api_key, recipe_dict: dict, print_out=False):\n",
        "  \"\"\"\n",
        "    Retrieve a list of ingredients for a given recipe.\n",
        "\n",
        "    ---\n",
        "    Args:\n",
        "        api_key (str): The API key for accessing the Spoonacular API.\n",
        "        recipe_dict (dict): A dictionary representing the recipe with 'id' and 'title' keys.\n",
        "        print_out (bool, optional): Whether to print the ingredients. Defaults to False.\n",
        "\n",
        "    Returns:\n",
        "        list: A list of ingredients for the recipe.\n",
        "\n",
        "    Raises:\n",
        "        ValueError: If the input `recipe_dict` is not a dictionary.\n",
        "\n",
        "    Example:\n",
        "        api_key = 'your_api_key'\n",
        "        recipe = {\n",
        "            'id': 12345,\n",
        "            'title': 'Spaghetti Carbonara',\n",
        "            'image': 'https://example.com/spaghetti_carbonara.jpg',\n",
        "            'imageType': 'jpg'\n",
        "        }\n",
        "        ingredients = get_recipe_ingredients(api_key, recipe, print_out=True)\n",
        "        print(ingredients)\n",
        "  \"\"\"\n",
        "\n",
        "  if not isinstance(recipe_dict, dict):\n",
        "    raise ValueError(\"Invalid datatype for argument 1 recipe_dict: {}\".format(type(recipe_dict)))\n",
        "\n",
        "  recipe_id = recipe_dict['id']\n",
        "  ingredients_json = json.loads(requests.get(f'https://api.spoonacular.com/recipes/{recipe_id}/ingredientWidget.json?apiKey={api_key}').content)\n",
        "  ingredients_list = ingredients_json['ingredients']\n",
        "\n",
        "  if print_out:\n",
        "    print(recipe_dict['title'])\n",
        "    display(Image(url=recipe_dict['image']))\n",
        "    print()\n",
        "    for i, item in enumerate(ingredients_json['ingredients']):\n",
        "      print(i+1)\n",
        "      print('ingredient: ', item['name'])\n",
        "      print('weight: ', item['amount']['metric']['value'], item['amount']['metric']['unit'])\n",
        "      print()\n",
        "  return ingredients_list"
      ],
      "metadata": {
        "id": "ZzSe60HyQhv_"
      },
      "execution_count": null,
      "outputs": []
    },
    {
      "cell_type": "code",
      "source": [
        "# get list of ingredients from recipe\n",
        "ingredients_list = get_recipe_ingredients(spoon_key, recipe_list[0], print_out=True)"
      ],
      "metadata": {
        "colab": {
          "base_uri": "https://localhost:8080/",
          "height": 1000
        },
        "id": "wT5XWqzCS3Rg",
        "outputId": "e899aea9-c5e2-4a6b-9a04-310cb3a05af2"
      },
      "execution_count": null,
      "outputs": [
        {
          "output_type": "stream",
          "name": "stdout",
          "text": [
            "Roasted Chicken and Brown Rice Soup\n"
          ]
        },
        {
          "output_type": "display_data",
          "data": {
            "text/html": [
              "<img src=\"https://spoonacular.com/recipeImages/658546-312x231.jpg\"/>"
            ],
            "text/plain": [
              "<IPython.core.display.Image object>"
            ]
          },
          "metadata": {}
        },
        {
          "output_type": "stream",
          "name": "stdout",
          "text": [
            "\n",
            "1\n",
            "ingredient:  wild rice blend\n",
            "weight:  185.0 g\n",
            "\n",
            "2\n",
            "ingredient:  to 2 chicken stock\n",
            "weight:  420.0 ml\n",
            "\n",
            "3\n",
            "ingredient:  salt\n",
            "weight:  0.5 tsps\n",
            "\n",
            "4\n",
            "ingredient:  butter\n",
            "weight:  1.0 Tbsp\n",
            "\n",
            "5\n",
            "ingredient:  extra virgin olive oil\n",
            "weight:  2.0 Tbsps\n",
            "\n",
            "6\n",
            "ingredient:  unrefined sea salt\n",
            "weight:  6.0 servings\n",
            "\n",
            "7\n",
            "ingredient:  ground turmeric\n",
            "weight:  0.5 tsps\n",
            "\n",
            "8\n",
            "ingredient:  diced onion\n",
            "weight:  1.0 medium\n",
            "\n",
            "9\n",
            "ingredient:  diced carrots\n",
            "weight:  2.0 medium\n",
            "\n",
            "10\n",
            "ingredient:  diced celery\n",
            "weight:  1.0 medium stalk\n",
            "\n",
            "11\n",
            "ingredient:  white diced leek\n",
            "weight:  1.0 medium\n",
            "\n",
            "12\n",
            "ingredient:  chicken stock\n",
            "weight:  1.68 l\n",
            "\n",
            "13\n",
            "ingredient:  shimeji mushrooms\n",
            "weight:  192.0 ml\n",
            "\n",
            "14\n",
            "ingredient:  hand-shredded roasted chicken\n",
            "weight:  420.0 g\n",
            "\n",
            "15\n",
            "ingredient:  black fresh cracked pepper\n",
            "weight:  6.0 servings\n",
            "\n",
            "16\n",
            "ingredient:  fresh tarragon\n",
            "weight:  2.0 sprigs\n",
            "\n"
          ]
        }
      ]
    },
    {
      "cell_type": "markdown",
      "source": [
        "# [NASA API](https://api.nasa.gov/)"
      ],
      "metadata": {
        "id": "EMcWPFx2Cfpo"
      }
    },
    {
      "cell_type": "code",
      "source": [
        "nasa_key = 'aorIWoOrIV9wzWARl2u6mawlaRmlRnLMlvR6u9qw'"
      ],
      "metadata": {
        "id": "HCMEAF4Znepn"
      },
      "execution_count": null,
      "outputs": []
    },
    {
      "cell_type": "code",
      "source": [
        "# get astronomy picture of the day\n",
        "nasa_endpoint = 'https://api.nasa.gov/planetary/apod'"
      ],
      "metadata": {
        "id": "dGHQ06PECix_"
      },
      "execution_count": null,
      "outputs": []
    },
    {
      "cell_type": "code",
      "source": [
        "res = requests.get(f'{nasa_endpoint}?api_key={nasa_key}&thumbs={True}')\n",
        "apod_dict = json.loads(res.content)\n",
        "title = apod_dict['title']\n",
        "thumbnail = apod_dict['thumbnail_url']\n",
        "print(title)\n",
        "display(Image(url=thumbnail))\n",
        "print(apod_dict['explanation'])"
      ],
      "metadata": {
        "colab": {
          "base_uri": "https://localhost:8080/",
          "height": 436
        },
        "id": "3u5BMXdcjS9p",
        "outputId": "59d9cb64-e354-4882-edac-3eab2140c660"
      },
      "execution_count": null,
      "outputs": [
        {
          "output_type": "stream",
          "name": "stdout",
          "text": [
            "Planet Earth at Night II\n"
          ]
        },
        {
          "output_type": "display_data",
          "data": {
            "text/html": [
              "<img src=\"https://img.youtube.com/vi/zIqG42AD4Gw/0.jpg\"/>"
            ],
            "text/plain": [
              "<IPython.core.display.Image object>"
            ]
          },
          "metadata": {}
        },
        {
          "output_type": "stream",
          "name": "stdout",
          "text": [
            "Recorded during 2017, timelapse sequences from the International Space Station are compiled in this serene video of planet Earth at Night. Fans of low Earth orbit can start by enjoying the view as green and red aurora borealis slather up the sky. The night scene tracks from northwest to southeast across North America, toward the Gulf of Mexico and the Florida coast. A second sequence follows European city lights, crosses the Mediterranean Sea, and passes over a bright Nile river in northern Africa. Seen from the orbital outpost, erratic flashes of lightning appear in thunder storms below and stars rise above the planet's curved horizon through a faint atmospheric airglow. Of course, from home you can always check out the vital signs of Planet Earth Now.\n"
          ]
        }
      ]
    },
    {
      "cell_type": "markdown",
      "source": [
        "# **Class Survey**\n",
        "\n",
        "Directly below is a link to a survey that lets us know how we're doing and any additional feedback you might have. Please take some time to fill out the survey in full so that we can learn how to better serve you.\n",
        "\n",
        "[**Survey Link**](https://docs.google.com/forms/d/e/1FAIpQLSeRoFsj9kC436jyBuImwv2QToGSYYZDo1SygTEnsQ-k3ozHng/viewform)"
      ],
      "metadata": {
        "id": "6PGlMCkFaKz0"
      }
    },
    {
      "cell_type": "markdown",
      "source": [
        "## Resources for Further Learning"
      ],
      "metadata": {
        "id": "MZ7Hmq8vbEdj"
      }
    },
    {
      "cell_type": "markdown",
      "source": [
        "* [Installing Python](https://realpython.com/installing-python/)\n",
        "    * If you would like to run Python code without requiring an internet connection, you need to install it locally on your computer. This link contains great instructions on how to do that.\n",
        "* [Automate the Boring Stuff with Python by Al Sweigart](https://automatetheboringstuff.com/)\n",
        "    * This is a great book that shows how to write Python programs that perform useful and time-consuming tasks in a fraction of a second. One of the topics the author discusses is working with JSON data (Chapter 16), and he uses the same API that we used in this class.\n",
        "* [JSON documentation](https://www.json.org/json-en.html)\n",
        "* [Open Weather Map documentation to get current weather](https://openweathermap.org/current)\n"
      ],
      "metadata": {
        "id": "DVT-ED39ay_G"
      }
    }
  ]
}