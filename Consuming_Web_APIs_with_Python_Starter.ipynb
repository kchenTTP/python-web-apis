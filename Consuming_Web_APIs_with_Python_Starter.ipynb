{
  "nbformat": 4,
  "nbformat_minor": 0,
  "metadata": {
    "colab": {
      "provenance": [],
      "collapsed_sections": [
        "57GK3nDlZC7Y",
        "EZuej0I-ZTap",
        "A0HdCwxwZceK",
        "j14h2f0yr21z",
        "osW54pqZYEAw",
        "MPSHbiO6Yd_l",
        "YyOw0Wyza-Lb"
      ],
      "authorship_tag": "ABX9TyMak62janhJEimOQTb+ib9t",
      "include_colab_link": true
    },
    "kernelspec": {
      "name": "python3",
      "display_name": "Python 3"
    },
    "language_info": {
      "name": "python"
    }
  },
  "cells": [
    {
      "cell_type": "markdown",
      "metadata": {
        "id": "view-in-github",
        "colab_type": "text"
      },
      "source": [
        "<a href=\"https://colab.research.google.com/github/kchenTTP/python-web-apis/blob/main/Consuming_Web_APIs_with_Python_Starter.ipynb\" target=\"_parent\"><img src=\"https://colab.research.google.com/assets/colab-badge.svg\" alt=\"Open In Colab\"/></a>"
      ]
    },
    {
      "cell_type": "markdown",
      "source": [
        "# **Consuming Web APIs with Python**\n",
        "\n",
        "An API, or Application Programming Interface, is a set of rules and protocols that allows different software applications to communicate and interact with each other."
      ],
      "metadata": {
        "id": "DqZvdNcNjfJT"
      }
    },
    {
      "cell_type": "markdown",
      "source": [
        "# Keyword Definition & Overview\n",
        "\n",
        "**API Endpoint**: A specific URL that an API exposes to allow users to access its functionalities\n",
        "\n",
        "**Requests**: How users send HTTP requests to APIs to retrieve or manipulate data\n",
        "  - [List of Request Methods](https://developer.mozilla.org/en-US/docs/Web/HTTP/Methods)\n",
        "\n",
        "**Responses**: When an API receives a request, it processes it and sends back a response\n",
        "\n",
        "**Status Codes**: Three-digit code that is included in the response that provides information about the status of the request\n",
        "  - [List of Status Codes](https://developer.mozilla.org/en-US/docs/Web/HTTP/Status)\n",
        "\n",
        "**Parameters**: Parameters or query parameters, which are used to provide additional information or modify the behavior of API requests\n",
        "\n",
        "**Authentication and Authorization**: Mechanisms to verify the identity of users and authorization to control access to certain resources or operations\n",
        "  - Authentication: Who are you?\n",
        "    - Ex: API keys, tokens, or OAuth\n",
        "  - Authorization: What are you allowed to do?\n",
        "\n",
        "**Rate Limiting**: APIs may enforce rate limits to restrict the number of requests a user can make within a specific timeframe"
      ],
      "metadata": {
        "id": "uvUB-Ex_-58M"
      }
    },
    {
      "cell_type": "markdown",
      "source": [
        "## Import Python Libraries"
      ],
      "metadata": {
        "id": "eQ7RkKVmrufA"
      }
    },
    {
      "cell_type": "code",
      "source": [
        "import json\n",
        "import requests\n",
        "from IPython.display import display, Image"
      ],
      "metadata": {
        "id": "a9JBXRnily4r"
      },
      "execution_count": null,
      "outputs": []
    },
    {
      "cell_type": "markdown",
      "source": [
        "# [Spoonacular API](https://spoonacular.com/food-api/docs)\n",
        "\n",
        "Let's use the Spoonacular api to find recipes and ingredients.\n",
        "\n",
        "**Steps**:\n",
        "1. Sign in to website and obtain [API key](https://spoonacular.com/food-api/console#Profile)\n",
        "2. Find API endpoints and parameters on the documentation\n",
        "3. Send request with correct parameters to API endpoint\n",
        "4. Receive and retrieve data from response\n",
        "5. Parse useful data and display\n"
      ],
      "metadata": {
        "id": "mkrdUoLysJ-d"
      }
    },
    {
      "cell_type": "markdown",
      "source": [
        "### Store our api key as a variable"
      ],
      "metadata": {
        "id": "xHHoirpKBivR"
      }
    },
    {
      "cell_type": "code",
      "source": [
        "#@title Put your api key here\n",
        "spoon_key = \"\" #@param {type:\"string\"}"
      ],
      "metadata": {
        "id": "IRncWbxipGKc",
        "cellView": "form"
      },
      "execution_count": null,
      "outputs": []
    },
    {
      "cell_type": "markdown",
      "source": [
        "## [Ingredient Search API Endpoint](https://spoonacular.com/food-api/docs#Ingredient-Search)\n",
        "\n",
        "- **Endpoint**: `https://api.spoonacular.com/food/ingredients/search`\n",
        "- **Parameters**: Read documentation to find out!\n",
        "  - Remember to pass in your `api key`\n"
      ],
      "metadata": {
        "id": "PEnrCD9g_Huc"
      }
    },
    {
      "cell_type": "markdown",
      "source": [
        "### Write a function that calls Spoonacular API to retrieve ingredients"
      ],
      "metadata": {
        "id": "8HvzPxl-J7OC"
      }
    },
    {
      "cell_type": "code",
      "source": [
        "ingredients_endpoint = 'https://api.spoonacular.com/food/ingredients/search'"
      ],
      "metadata": {
        "id": "5xbkx3PZUvkr"
      },
      "execution_count": null,
      "outputs": []
    },
    {
      "cell_type": "code",
      "source": [
        "ingredient = 'apple'"
      ],
      "metadata": {
        "id": "TD3fAINRBkXX"
      },
      "execution_count": null,
      "outputs": []
    },
    {
      "cell_type": "code",
      "source": [
        "# Your code goes here\n"
      ],
      "metadata": {
        "id": "A3w-1cltZCRz"
      },
      "execution_count": null,
      "outputs": []
    },
    {
      "cell_type": "markdown",
      "source": [
        "#### Kang's Implentation (Write your own code before checking answer)"
      ],
      "metadata": {
        "id": "57GK3nDlZC7Y"
      }
    },
    {
      "cell_type": "code",
      "source": [
        "#@title Function Implementation\n",
        "\n",
        "def get_api_json(api_key: str, api_endpoint: str, params: dict) -> dict:\n",
        "  '''\n",
        "  Get dictionary of the main content from api call. Provide your api_key and a dictionary containing all the parameter names as key and parameter values as value.\n",
        "\n",
        "  ---\n",
        "  Args:\n",
        "      api_key: Your API Key.\n",
        "      api_endpoint: The api endpoint you are trying to call.\n",
        "      params: Dictionary that follows the following format {'param_name': 'param_value'}.\n",
        "  Returns:\n",
        "      dict: A dictionary containing the main body of the HTTP response.\n",
        "  '''\n",
        "  param_pairs = list(params.items())\n",
        "  base_str = api_endpoint + '?'\n",
        "\n",
        "  for key, value in param_pairs:\n",
        "    base_str = base_str + key + '=' + value + '&'\n",
        "\n",
        "  base_str = base_str + 'apiKey=' + api_key\n",
        "  res = requests.get(base_str)\n",
        "  return json.loads(res.content)"
      ],
      "metadata": {
        "id": "MtvSIMuuDIbM",
        "cellView": "form"
      },
      "execution_count": null,
      "outputs": []
    },
    {
      "cell_type": "code",
      "source": [
        "# set api parameters\n",
        "api_params = {\n",
        "    'query': ingredient,\n",
        "    'number': '10'\n",
        "}\n",
        "\n",
        "# get list of ingredients\n",
        "response = get_api_json(spoon_key, ingredients_endpoint, api_params)\n",
        "ingredients_dict = response['results']\n",
        "ingredients_dict"
      ],
      "metadata": {
        "id": "o6u0KLIUwXLh",
        "colab": {
          "base_uri": "https://localhost:8080/"
        },
        "outputId": "343d3728-2ab5-48c6-ba3d-f769208bd577"
      },
      "execution_count": null,
      "outputs": [
        {
          "output_type": "execute_result",
          "data": {
            "text/plain": [
              "[{'id': 9003, 'name': 'apple', 'image': 'apple.jpg'},\n",
              " {'id': 9019, 'name': 'applesauce', 'image': 'applesauce.png'},\n",
              " {'id': 9016, 'name': 'apple juice', 'image': 'apple-juice.jpg'},\n",
              " {'id': 1009016, 'name': 'apple cider', 'image': 'apple-cider.jpg'},\n",
              " {'id': 10019297, 'name': 'apple jelly', 'image': 'apple-jelly.jpg'},\n",
              " {'id': 19294, 'name': 'apple butter', 'image': 'apple-jelly.jpg'},\n",
              " {'id': 1042035, 'name': 'apple pie spice', 'image': 'garam-masala.jpg'},\n",
              " {'id': 19312, 'name': 'apple pie filling', 'image': 'apple-pie-slice.jpg'},\n",
              " {'id': 2048,\n",
              "  'name': 'apple cider vinegar',\n",
              "  'image': 'apple-cider-vinegar.jpg'},\n",
              " {'id': 10123, 'name': 'applewood smoked bacon', 'image': 'raw-bacon.png'}]"
            ]
          },
          "metadata": {},
          "execution_count": 6
        }
      ]
    },
    {
      "cell_type": "markdown",
      "source": [
        "## [Recipes Search API Endpoint](https://spoonacular.com/food-api/docs#Search-Recipes-Complex)\n",
        "\n",
        "- **Endpoint**: `https://api.spoonacular.com/recipes/complexSearch`\n",
        "- **Parameters**: Read documentation to find out!\n",
        "  - Remember to pass in your `api key`\n"
      ],
      "metadata": {
        "id": "58p9KC_1MA9S"
      }
    },
    {
      "cell_type": "markdown",
      "source": [
        "### Write code that calls Spoonacular API to retrieve recipe information"
      ],
      "metadata": {
        "id": "AuzL_onNMlRo"
      }
    },
    {
      "cell_type": "code",
      "source": [
        "complex_search_endpoint = 'https://api.spoonacular.com/recipes/complexSearch'"
      ],
      "metadata": {
        "id": "QbpDJIRN6JBZ"
      },
      "execution_count": null,
      "outputs": []
    },
    {
      "cell_type": "code",
      "source": [
        "food = 'roasted chicken'"
      ],
      "metadata": {
        "id": "Oy3f9JqMQFKx"
      },
      "execution_count": null,
      "outputs": []
    },
    {
      "cell_type": "code",
      "source": [
        "# Your code goes here\n"
      ],
      "metadata": {
        "id": "cIqGKJdyZS5M"
      },
      "execution_count": null,
      "outputs": []
    },
    {
      "cell_type": "markdown",
      "source": [
        "#### Kang's Implentation (Write your own code before checking answer)"
      ],
      "metadata": {
        "id": "EZuej0I-ZTap"
      }
    },
    {
      "cell_type": "code",
      "source": [
        "# set api parameters\n",
        "api_params = {\n",
        "    'query': food,\n",
        "    'number': '20'\n",
        "}\n",
        "\n",
        "recipe_response = get_api_json(spoon_key, complex_search_endpoint, api_params)\n",
        "recipe_list = recipe_response['results']  # get a list of recipes\n",
        "recipe_list[13] # one recipe"
      ],
      "metadata": {
        "id": "XvZ2jtFEMsdX",
        "colab": {
          "base_uri": "https://localhost:8080/"
        },
        "outputId": "d83e34a4-3ace-4dd7-e2bd-2143bab8bcd1"
      },
      "execution_count": null,
      "outputs": [
        {
          "output_type": "execute_result",
          "data": {
            "text/plain": [
              "{'id': 641110,\n",
              " 'title': 'Curry and Sage Roast Chicken',\n",
              " 'image': 'https://spoonacular.com/recipeImages/641110-312x231.jpg',\n",
              " 'imageType': 'jpg'}"
            ]
          },
          "metadata": {},
          "execution_count": 9
        }
      ]
    },
    {
      "cell_type": "markdown",
      "source": [
        "## Use the recipe id information to find ingredients\n",
        "- **Endpoint**: `https://api.spoonacular.com/recipes/{recipe_id}/ingredientWidget.json`"
      ],
      "metadata": {
        "id": "7PhYm1pQURnW"
      }
    },
    {
      "cell_type": "code",
      "source": [
        "# Your code goes here\n"
      ],
      "metadata": {
        "id": "jlfhFJ9XZcw3"
      },
      "execution_count": null,
      "outputs": []
    },
    {
      "cell_type": "markdown",
      "source": [
        "#### Kang's Implentation (Write your own code before checking answer)"
      ],
      "metadata": {
        "id": "A0HdCwxwZceK"
      }
    },
    {
      "cell_type": "code",
      "source": [
        "#@title Function Implementation\n",
        "def get_ingredients_with_id(api_key: str, recipe_dict: dict, print_out: bool=False) -> list:\n",
        "  '''\n",
        "  Get a list of ingredients with recipe_dictionary and printing them out.\n",
        "\n",
        "  ---\n",
        "  Args:\n",
        "      api_key: Your API Key.\n",
        "      params: Dictionary containing the recipe.\n",
        "\n",
        "  Returns:\n",
        "      list: A list of all the ingredients used in the recipe.\n",
        "\n",
        "  Raises:\n",
        "        ValueError: If the input `recipe_dict` is not a dictionary.\n",
        "\n",
        "  Example:\n",
        "      api_key = 'your_api_key'\n",
        "      recipe_dict = {'id': 641110,\n",
        "          'title': 'Curry and Sage Roast Chicken',\n",
        "          'image': 'https://spoonacular.com/recipeImages/641110-312x231.jpg',\n",
        "          'imageType': 'jpg'\n",
        "      }\n",
        "      list_of_ingredients = get_ingredients_with_id(api_key: api_key, recipe_dict: recipe_dict)\n",
        "\n",
        "  '''\n",
        "\n",
        "  if not isinstance(recipe_dict, dict):\n",
        "    raise ValueError(\"Invalid datatype for argument 1 recipe_dict: {}\".format(type(recipe_dict)))\n",
        "\n",
        "  res = requests.get(f\"https://api.spoonacular.com/recipes/{recipe_dict['id']}/ingredientWidget.json?apiKey={api_key}\")\n",
        "  content = json.loads(res.content)\n",
        "  ingredients_dict_list = content['ingredients']\n",
        "  ingredient_list = []\n",
        "\n",
        "  if print_out:\n",
        "    print(recipe_dict['title'])\n",
        "    print('===============================')\n",
        "    display(Image(url=recipe_dict['image']))\n",
        "    print('===============================')\n",
        "\n",
        "  for num, i in enumerate(ingredients_dict_list):\n",
        "    ingredient_list.append(i['name'])\n",
        "    if print_out: print(f\"{num + 1}. {i['name']}: {i['amount']['us']['value']} {i['amount']['us']['unit']}\")\n",
        "\n",
        "  if print_out: print('===============================')\n",
        "\n",
        "  return ingredient_list"
      ],
      "metadata": {
        "id": "ZzSe60HyQhv_",
        "cellView": "form"
      },
      "execution_count": null,
      "outputs": []
    },
    {
      "cell_type": "code",
      "source": [
        "# get list of ingredients from recipe\n",
        "ingredients_of_recipe = get_ingredients_with_id(api_key=spoon_key, recipe_dict=recipe_list[5], print_out=True)"
      ],
      "metadata": {
        "id": "wT5XWqzCS3Rg",
        "colab": {
          "base_uri": "https://localhost:8080/",
          "height": 461
        },
        "outputId": "48930e6a-0907-47f8-abc4-c0a746253224"
      },
      "execution_count": null,
      "outputs": [
        {
          "output_type": "stream",
          "name": "stdout",
          "text": [
            "Roasted Butterflied Chicken w. Onions & Carrots\n",
            "===============================\n"
          ]
        },
        {
          "output_type": "display_data",
          "data": {
            "text/html": [
              "<img src=\"https://spoonacular.com/recipeImages/716427-312x231.jpg\"/>"
            ],
            "text/plain": [
              "<IPython.core.display.Image object>"
            ]
          },
          "metadata": {}
        },
        {
          "output_type": "stream",
          "name": "stdout",
          "text": [
            "===============================\n",
            "1. carrots: 2.0 cups\n",
            "2. chicken: 4.0 lb\n",
            "3. ghee: 1.0 Tbsp\n",
            "4. ghee: 3.0 Tbsps\n",
            "5. dried herbes de provence: 1.5 Tbsps\n",
            "6. pepper: 4.0 servings\n",
            "7. red onions: 2.0 large\n",
            "8. sea salt: 4.0 servings\n",
            "===============================\n"
          ]
        }
      ]
    },
    {
      "cell_type": "code",
      "source": [
        "ingredients_of_recipe"
      ],
      "metadata": {
        "colab": {
          "base_uri": "https://localhost:8080/"
        },
        "id": "DNd7qXT38WYb",
        "outputId": "6a53e7c0-a1d9-44f9-c5bb-3b92de630e52"
      },
      "execution_count": null,
      "outputs": [
        {
          "output_type": "execute_result",
          "data": {
            "text/plain": [
              "['carrots',\n",
              " 'chicken',\n",
              " 'ghee',\n",
              " 'ghee',\n",
              " 'dried herbes de provence',\n",
              " 'pepper',\n",
              " 'red onions',\n",
              " 'sea salt']"
            ]
          },
          "metadata": {},
          "execution_count": 12
        }
      ]
    },
    {
      "cell_type": "markdown",
      "source": [
        "# [Open Weather API](https://openweathermap.org/api)\n",
        "\n",
        "We'll be using the [Current Weather Data API](https://openweathermap.org/current) to get the current weather of a location using it's zip code.\n",
        "\n",
        "**Steps**:\n",
        "1. Sign in to website and obtain [API key](https://home.openweathermap.org/api_keys)\n",
        "2. Find API endpoints and parameters on the documentation\n",
        "3. Find zip code of location\n",
        "4. Send request with correct parameters to API endpoint\n",
        "5. Receive and retrieve data from response\n",
        "6. Parse useful data and display"
      ],
      "metadata": {
        "id": "j14h2f0yr21z"
      }
    },
    {
      "cell_type": "markdown",
      "source": [
        "### Store our api key as a variable"
      ],
      "metadata": {
        "id": "ebi2r71NBH5r"
      }
    },
    {
      "cell_type": "code",
      "source": [
        "#@title Put your api key here\n",
        "weather_key = \"\" #@param {type:\"string\"}"
      ],
      "metadata": {
        "id": "Z4QahFNeAwdt",
        "cellView": "form"
      },
      "execution_count": null,
      "outputs": []
    },
    {
      "cell_type": "markdown",
      "source": [
        "### Write a function that sends HTTP Get request to API endpoint\n",
        "- **Endpoint**: `https://api.openweathermap.org/data/2.5/weather`\n",
        "- **Parameters**: `?param_name_1=value`\n",
        "  - Use `&` symbol to pass in multiple parameters\n",
        "  - Remember to pass in your `api key`"
      ],
      "metadata": {
        "id": "3LEYaC4e8Nvy"
      }
    },
    {
      "cell_type": "code",
      "source": [
        "weather_endpoint = 'https://api.openweathermap.org/data/2.5/weather'"
      ],
      "metadata": {
        "id": "hPNUzb_mT7nF"
      },
      "execution_count": null,
      "outputs": []
    },
    {
      "cell_type": "code",
      "execution_count": null,
      "metadata": {
        "id": "dlCHnlvAfwTw"
      },
      "outputs": [],
      "source": [
        "# Your code goes here\n"
      ]
    },
    {
      "cell_type": "markdown",
      "source": [
        "#### Kang's Implentation (Write your own code before checking answer)"
      ],
      "metadata": {
        "id": "osW54pqZYEAw"
      }
    },
    {
      "cell_type": "code",
      "source": [
        "#@title Function Implementation\n",
        "\n",
        "def get_weather_json_with_zip(api_key, endpoint, zip_code, units):\n",
        "  \"\"\"\n",
        "  call open weather api and return a json\n",
        "  \"\"\"\n",
        "  res = requests.get(f'{endpoint}?zip={zip_code}&appid={api_key}&units={units}')\n",
        "  return json.loads(res.content)"
      ],
      "metadata": {
        "id": "zrhDcK5hp1bX",
        "cellView": "form"
      },
      "execution_count": null,
      "outputs": []
    },
    {
      "cell_type": "code",
      "source": [
        "# print the response json file\n",
        "zip_code = '10001'\n",
        "units = 'metric'\n",
        "weather_json = get_weather_json_with_zip(weather_key, weather_endpoint, zip_code, units)\n",
        "weather_json"
      ],
      "metadata": {
        "id": "r8v-ej-qls0n"
      },
      "execution_count": null,
      "outputs": []
    },
    {
      "cell_type": "markdown",
      "source": [
        "### Write a function that parses useful information and display"
      ],
      "metadata": {
        "id": "uxxKDavP9jLm"
      }
    },
    {
      "cell_type": "code",
      "source": [
        "# Your code goes here\n"
      ],
      "metadata": {
        "id": "r7Max2DAYdjZ"
      },
      "execution_count": null,
      "outputs": []
    },
    {
      "cell_type": "markdown",
      "source": [
        "#### Kang's Implentation (Write your own code before checking answer)"
      ],
      "metadata": {
        "id": "MPSHbiO6Yd_l"
      }
    },
    {
      "cell_type": "code",
      "source": [
        "#@title Function Implementation\n",
        "\n",
        "def display_weather_data(response: dict):\n",
        "  \"\"\"\n",
        "    Display weather data from a response json file (dictionary).\n",
        "\n",
        "    ---\n",
        "    Args:\n",
        "        response (dict): A dictionary containing weather data.\n",
        "\n",
        "    Raises:\n",
        "        ValueError: If the input `response` is not a dictionary.\n",
        "\n",
        "    Prints:\n",
        "        The title, description, current temperature, humidity, maximum temperature,\n",
        "        and minimum temperature from the `response` dictionary.\n",
        "\n",
        "    Example:\n",
        "        response = {\n",
        "            'name': 'London',\n",
        "            'sys': {'country': 'GB'},\n",
        "            'weather': [{'main': 'Cloudy'}],\n",
        "            'main': {\n",
        "                'temp': 20.5,\n",
        "                'humidity': 75,\n",
        "                'temp_max': 22.8,\n",
        "                'temp_min': 18.2\n",
        "            }\n",
        "        }\n",
        "        display_weather_data(response)\n",
        "    \"\"\"\n",
        "\n",
        "  # check if argument is dict\n",
        "  if not isinstance(response, dict):\n",
        "    raise ValueError('Invalid response datatype: {}'.format(type(response)))\n",
        "\n",
        "  weather = {\n",
        "      'title': f\"{response['name']}, {response['sys']['country']}: Current Weather\",\n",
        "      'description': response['weather'][0]['main'],\n",
        "      'temp': str(response['main']['temp']),\n",
        "      'humidity': str(response['main']['humidity']),\n",
        "      'temp_max': str(response['main']['temp_max']),\n",
        "      'temp_min': str(response['main']['temp_min'])\n",
        "  }\n",
        "\n",
        "  n = 0\n",
        "  for s in weather.values():\n",
        "    s_len = len(s)\n",
        "    if s_len > n:\n",
        "      n = s_len\n",
        "  n += 2\n",
        "\n",
        "  print('=' * n)\n",
        "  print(weather['title'])\n",
        "  print('=' * n)\n",
        "  print(weather['description'])\n",
        "  print('-' * n)\n",
        "  print('Current temperature:', weather['temp'], '\\u00B0C')\n",
        "  print('Humidity:', weather['humidity'], '%')\n",
        "  print('Max temperature:', weather['temp_max'], '\\u00B0C')\n",
        "  print('Min temperature:', weather['temp_min'], '\\u00B0C')\n",
        "  print('-' * n)\n"
      ],
      "metadata": {
        "id": "eUffCFGHuxkh"
      },
      "execution_count": null,
      "outputs": []
    },
    {
      "cell_type": "code",
      "source": [
        "# display the information\n",
        "display_weather_data(weather_json)"
      ],
      "metadata": {
        "id": "PexqQE8Yx-hD"
      },
      "execution_count": null,
      "outputs": []
    },
    {
      "cell_type": "markdown",
      "source": [
        "# **Class Survey**\n",
        "\n",
        "Directly below is a link to a survey that lets us know how we're doing and any additional feedback you might have. Please take some time to fill out the survey in full so that we can learn how to better serve you.\n",
        "\n",
        "[**Survey Link**](https://docs.google.com/forms/d/e/1FAIpQLSeRoFsj9kC436jyBuImwv2QToGSYYZDo1SygTEnsQ-k3ozHng/viewform)"
      ],
      "metadata": {
        "id": "-CzpXUl0omDK"
      }
    },
    {
      "cell_type": "markdown",
      "source": [
        "## Resources for Further Learning"
      ],
      "metadata": {
        "id": "YyOw0Wyza-Lb"
      }
    },
    {
      "cell_type": "markdown",
      "source": [
        "* [Installing Python](https://realpython.com/installing-python/)\n",
        "    * If you would like to run Python code without requiring an internet connection, you need to install it locally on your computer. This link contains great instructions on how to do that.\n",
        "* [Automate the Boring Stuff with Python by Al Sweigart](https://automatetheboringstuff.com/)\n",
        "    * This is a great book that shows how to write Python programs that perform useful and time-consuming tasks in a fraction of a second. One of the topics the author discusses is working with JSON data (Chapter 16), and he uses the same API that we used in this class.\n",
        "* [JSON documentation](https://www.json.org/json-en.html)\n",
        "* [Open Weather Map documentation to get current weather](https://openweathermap.org/current)\n"
      ],
      "metadata": {
        "id": "qMrVOmQbaWm2"
      }
    }
  ]
}